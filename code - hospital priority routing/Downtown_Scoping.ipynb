{
 "cells": [
  {
   "cell_type": "markdown",
   "metadata": {},
   "source": [
    "**Bixi Filter Regions of Interest**"
   ]
  },
  {
   "cell_type": "code",
   "execution_count": 2,
   "metadata": {},
   "outputs": [],
   "source": [
    "import pandas as pd\n",
    "from shapely.geometry import Point, Polygon\n",
    "import geopandas as gpd\n",
    "import matplotlib.pyplot as plt\n",
    "import plotly\n",
    "import plotly.graph_objs as go\n",
    "from plotly.tools import FigureFactory as FF\n",
    "\n",
    "bixi = pd.read_csv('Stations_2019.csv')\n",
    "\n",
    "#adjust these points to adjust the boundaries of the polygon \n",
    "N = (-73.571803, 45.518931) #pin/st. denis\n",
    "W = (-73.584395, 45.505730) #pin/peel\n",
    "S = (-73.566741, 45.496835) #peel/st. antoine\n",
    "E = (-73.554537, 45.511056) #viger/st. denis \n",
    "coords = [N,W,S,E]\n",
    "bixi_region = Polygon(coords)\n",
    "\n",
    "#position of warehouse \n",
    "warehouse = Point(-73.601962, 45.529709)"
   ]
  },
  {
   "cell_type": "markdown",
   "metadata": {},
   "source": [
    "**Area of region of interest**"
   ]
  },
  {
   "cell_type": "code",
   "execution_count": 3,
   "metadata": {},
   "outputs": [
    {
     "name": "stdout",
     "output_type": "stream",
     "text": [
      "area in sq km 6.071280248620024\n"
     ]
    }
   ],
   "source": [
    "import pyproj\n",
    "from shapely.geometry import shape\n",
    "from shapely.ops import transform\n",
    "from functools import partial\n",
    "\n",
    "geom = {'type': 'Polygon',\n",
    "        'coordinates': [[[-73.571803, 45.518931], [-73.584395, 45.505730],\n",
    "                         [-73.566741, 45.496835], [-73.554537, 45.511056]]]}\n",
    "\n",
    "s = shape(geom)\n",
    "proj = partial(pyproj.transform, pyproj.Proj(init='epsg:4326'),\n",
    "               pyproj.Proj(init='epsg:3857'))\n",
    "\n",
    "s_new = transform(proj, s)\n",
    "\n",
    "projected_area = transform(proj, s).area\n",
    "print('area in sq km', projected_area/1000000)"
   ]
  },
  {
   "cell_type": "markdown",
   "metadata": {},
   "source": [
    "**Calcualate Region of Interest**"
   ]
  },
  {
   "cell_type": "code",
   "execution_count": 4,
   "metadata": {},
   "outputs": [],
   "source": [
    "#transform lat and longs from bixi data into point coordinates\n",
    "stations = pd.DataFrame(columns = ['Coords'], index = range(len(bixi)))\n",
    "stations_list = []\n",
    "for i in range(len(bixi)):\n",
    "    stations_list.append(Point(bixi['longitude'][i],bixi['latitude'][i]))\n",
    "stations['Coords'] = stations_list\n",
    "\n",
    "#calculate if a station is in or out of the region \n",
    "within_polygon = []\n",
    "for i in range(len(stations)):\n",
    "    within_polygon.append(stations['Coords'][i].within(bixi_region))\n",
    "bixi['Within_Region'] = within_polygon"
   ]
  },
  {
   "cell_type": "code",
   "execution_count": 6,
   "metadata": {},
   "outputs": [
    {
     "data": {
      "text/html": [
       "<div>\n",
       "<style scoped>\n",
       "    .dataframe tbody tr th:only-of-type {\n",
       "        vertical-align: middle;\n",
       "    }\n",
       "\n",
       "    .dataframe tbody tr th {\n",
       "        vertical-align: top;\n",
       "    }\n",
       "\n",
       "    .dataframe thead th {\n",
       "        text-align: right;\n",
       "    }\n",
       "</style>\n",
       "<table border=\"1\" class=\"dataframe\">\n",
       "  <thead>\n",
       "    <tr style=\"text-align: right;\">\n",
       "      <th></th>\n",
       "      <th>Code</th>\n",
       "      <th>name</th>\n",
       "      <th>latitude</th>\n",
       "      <th>longitude</th>\n",
       "    </tr>\n",
       "    <tr>\n",
       "      <th>Within_Region</th>\n",
       "      <th></th>\n",
       "      <th></th>\n",
       "      <th></th>\n",
       "      <th></th>\n",
       "    </tr>\n",
       "  </thead>\n",
       "  <tbody>\n",
       "    <tr>\n",
       "      <th>False</th>\n",
       "      <td>561</td>\n",
       "      <td>561</td>\n",
       "      <td>561</td>\n",
       "      <td>561</td>\n",
       "    </tr>\n",
       "    <tr>\n",
       "      <th>True</th>\n",
       "      <td>58</td>\n",
       "      <td>58</td>\n",
       "      <td>58</td>\n",
       "      <td>58</td>\n",
       "    </tr>\n",
       "  </tbody>\n",
       "</table>\n",
       "</div>"
      ],
      "text/plain": [
       "               Code  name  latitude  longitude\n",
       "Within_Region                                 \n",
       "False           561   561       561        561\n",
       "True             58    58        58         58"
      ]
     },
     "execution_count": 6,
     "metadata": {},
     "output_type": "execute_result"
    }
   ],
   "source": [
    "#number of stations within desired region\n",
    "bixi.groupby('Within_Region').count()"
   ]
  },
  {
   "cell_type": "code",
   "execution_count": 7,
   "metadata": {},
   "outputs": [
    {
     "data": {
      "text/html": [
       "<div>\n",
       "<style scoped>\n",
       "    .dataframe tbody tr th:only-of-type {\n",
       "        vertical-align: middle;\n",
       "    }\n",
       "\n",
       "    .dataframe tbody tr th {\n",
       "        vertical-align: top;\n",
       "    }\n",
       "\n",
       "    .dataframe thead th {\n",
       "        text-align: right;\n",
       "    }\n",
       "</style>\n",
       "<table border=\"1\" class=\"dataframe\">\n",
       "  <thead>\n",
       "    <tr style=\"text-align: right;\">\n",
       "      <th></th>\n",
       "      <th>start_station_code</th>\n",
       "      <th>name</th>\n",
       "      <th>latitude</th>\n",
       "      <th>longitude</th>\n",
       "      <th>Within_Region</th>\n",
       "    </tr>\n",
       "  </thead>\n",
       "  <tbody>\n",
       "    <tr>\n",
       "      <th>10</th>\n",
       "      <td>6001</td>\n",
       "      <td>Métro Champ-de-Mars (Viger / Sanguinet)</td>\n",
       "      <td>45.510351</td>\n",
       "      <td>-73.556508</td>\n",
       "      <td>True</td>\n",
       "    </tr>\n",
       "    <tr>\n",
       "      <th>12</th>\n",
       "      <td>6003</td>\n",
       "      <td>Clark / Evans</td>\n",
       "      <td>45.511007</td>\n",
       "      <td>-73.567602</td>\n",
       "      <td>True</td>\n",
       "    </tr>\n",
       "    <tr>\n",
       "      <th>14</th>\n",
       "      <td>6005</td>\n",
       "      <td>Metcalfe / du Square-Dorchester</td>\n",
       "      <td>45.500208</td>\n",
       "      <td>-73.571138</td>\n",
       "      <td>True</td>\n",
       "    </tr>\n",
       "  </tbody>\n",
       "</table>\n",
       "</div>"
      ],
      "text/plain": [
       "    start_station_code                                     name   latitude  \\\n",
       "10                6001  Métro Champ-de-Mars (Viger / Sanguinet)  45.510351   \n",
       "12                6003                            Clark / Evans  45.511007   \n",
       "14                6005          Metcalfe / du Square-Dorchester  45.500208   \n",
       "\n",
       "    longitude  Within_Region  \n",
       "10 -73.556508           True  \n",
       "12 -73.567602           True  \n",
       "14 -73.571138           True  "
      ]
     },
     "execution_count": 7,
     "metadata": {},
     "output_type": "execute_result"
    }
   ],
   "source": [
    "#filter to stations only within region and rename column\n",
    "bixi_filtered = bixi[bixi['Within_Region'] == True].rename(columns={\"Code\": \"start_station_code\"})\n",
    "bixi_filtered.head(3)"
   ]
  },
  {
   "cell_type": "markdown",
   "metadata": {},
   "source": [
    "**Map of Problem**"
   ]
  },
  {
   "cell_type": "code",
   "execution_count": 8,
   "metadata": {},
   "outputs": [],
   "source": [
    "gpd.io.file.fiona.drvsupport.supported_drivers['KML'] = 'rw'"
   ]
  },
  {
   "cell_type": "code",
   "execution_count": 20,
   "metadata": {},
   "outputs": [],
   "source": [
    "cycle_map = gpd.read_file('reseau_cyclable.kml', driver = 'KML')\n",
    "basemap = gpd.read_file('limadmin.kml', driver = 'KML')"
   ]
  },
  {
   "cell_type": "code",
   "execution_count": 39,
   "metadata": {},
   "outputs": [
    {
     "data": {
      "image/png": "[encoded data removed]",
      "text/plain": [
       "<Figure size 432x288 with 1 Axes>"
      ]
     },
     "metadata": {
      "needs_background": "light"
     },
     "output_type": "display_data"
    }
   ],
   "source": [
    "fig, ax = plt.subplots()\n",
    "\n",
    "#basemaps \n",
    "#cycle_map.plot(ax=ax, facecolor='white', alpha = 0.2)\n",
    "basemap.plot(ax=ax, facecolor = 'grey')\n",
    "\n",
    "#region of interest \n",
    "x,y = bixi_region.exterior.xy\n",
    "plt.plot(x,y, color = 'red')\n",
    "\n",
    "#bixi stations \n",
    "plt.scatter(bixi['longitude'],  bixi['latitude'], color = 'black', s = 1)\n",
    "plt.xlabel(\"longitude\")\n",
    "plt.ylabel(\"latitude\")\n",
    "plt.title('Map of Bixi Stations on the Island of Montreal (2019)')\n",
    "plt.tight_layout()\n",
    "plt.show()"
   ]
  },
  {
   "cell_type": "code",
   "execution_count": 101,
   "metadata": {},
   "outputs": [
    {
     "name": "stdout",
     "output_type": "stream",
     "text": [
      "month: april\n",
      "26954.369999994375\n",
      "58928.71999997864\n",
      "25047.1249999949\n",
      "36349.68999999067\n",
      "month: may\n",
      "26954.369999994375\n",
      "58928.71999997864\n",
      "25047.1249999949\n",
      "36349.68999999067\n",
      "month: june\n",
      "26954.369999994375\n",
      "58928.71999997864\n",
      "25047.1249999949\n",
      "36349.68999999067\n",
      "month: july\n",
      "26954.369999994375\n",
      "58928.71999997864\n",
      "25047.1249999949\n",
      "36349.68999999067\n",
      "month: august\n",
      "26954.369999994375\n",
      "58928.71999997864\n",
      "25047.1249999949\n",
      "36349.68999999067\n",
      "month: september\n",
      "26954.369999994375\n",
      "58928.71999997864\n",
      "25047.1249999949\n",
      "36349.68999999067\n",
      "month: october\n",
      "26954.369999994375\n",
      "58928.71999997864\n",
      "25047.1249999949\n",
      "36349.68999999067\n"
     ]
    }
   ],
   "source": [
    "#revenue per week, for a given month ('revenue')\n",
    "\n",
    "for j in range(len(months)):\n",
    "    w1 = []\n",
    "    w2 = []\n",
    "    w3 = []\n",
    "    w4 = []\n",
    "    for i in range(len(revenue)):\n",
    "        if (int(revenue['start_date'][1][5:7]) == 10) & (int(revenue['start_date'][i][8:10]) <= 7): #1-7\n",
    "            w1.append(revenue['cost'][i])\n",
    "        if (int(revenue['start_date'][1][5:7]) == 10) & (int(revenue['start_date'][i][8:10]) <= 14): #8-14\n",
    "            w2.append(revenue['cost'][i])\n",
    "        elif (int(revenue['start_date'][1][5:7]) == 10) & (int(revenue['start_date'][i][8:10]) <= 21): #15-21\n",
    "            w3.append(revenue['cost'][i])\n",
    "        else: #22-30/31\n",
    "            w4.append(revenue['cost'][i])\n",
    "    print('month:', m[j])\n",
    "    print(sum(w1))\n",
    "    print(sum(w2))\n",
    "    print(sum(w3))\n",
    "    print(sum(w4))"
   ]
  },
  {
   "cell_type": "code",
   "execution_count": 25,
   "metadata": {},
   "outputs": [
    {
     "data": {
      "text/plain": [
       "125.60833333333333"
      ]
     },
     "execution_count": 25,
     "metadata": {},
     "output_type": "execute_result"
    }
   ],
   "source": [
    "#fuel cost\n",
    "(112.1+113.6+126.3+136.0+137.9+128.5+133.3+125.1+123.9+123.6+123.5+123.5)/12"
   ]
  },
  {
   "cell_type": "markdown",
   "metadata": {},
   "source": [
    "**Membership Revenue**\n",
    "- Calculate the number of members and the revenue from membership\n",
    "- Calculate the number of member rides taken during the season \n",
    "- Divide the number of members by the number of rides taken per season to get an average base rate for each member ride"
   ]
  },
  {
   "cell_type": "code",
   "execution_count": 44,
   "metadata": {},
   "outputs": [
    {
     "data": {
      "text/plain": [
       "1.0152467814127886"
      ]
     },
     "execution_count": 44,
     "metadata": {},
     "output_type": "execute_result"
    }
   ],
   "source": [
    "membership_revenue = (4541+13488+10620+6697+5622+3817+2709+920)*97\n",
    "member_rides = 206736 + 663738+756027+892272+828313+733360+545186\n",
    "membership_revenue/member_rides"
   ]
  }
 ],
 "metadata": {
  "kernelspec": {
   "display_name": "Python 3",
   "language": "python",
   "name": "python3"
  },
  "language_info": {
   "codemirror_mode": {
    "name": "ipython",
    "version": 3
   },
   "file_extension": ".py",
   "mimetype": "text/x-python",
   "name": "python",
   "nbconvert_exporter": "python",
   "pygments_lexer": "ipython3",
   "version": "3.7.7"
  }
 },
 "nbformat": 4,
 "nbformat_minor": 4
}
