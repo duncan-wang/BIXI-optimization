{
 "cells": [
  {
   "cell_type": "code",
   "execution_count": 636,
   "metadata": {},
   "outputs": [],
   "source": [
    "import gurobipy as gp\n",
    "from gurobipy import *\n",
    "import numpy as np\n",
    "import pandas as pd"
   ]
  },
  {
   "cell_type": "markdown",
   "metadata": {},
   "source": [
    "## Problem 3. Routing with Priorities"
   ]
  },
  {
   "cell_type": "markdown",
   "metadata": {
    "id": "h9daiW4l4FyJ"
   },
   "source": [
    "### Parameters\n",
    "- $d_{i,j}$: The distance between station $i$ and station $j$.\n",
    "- $E_i$: The existing number of bikes at station $i$ before rebalancing.\n",
    "- $I_i = [\\lambda_i - \\omega_i, \\lambda_i + \\omega_i]$: The ideal threshold of bikes at station $i$ after rebalancing, which is represented by a predetermined idea amount $\\lambda_i$ associated with a symmetric threshold of $2\\omega_i$.\n",
    "- $\\gamma_i$: Capacity (number of docks) of bike station $i$.\n",
    "- $n$: Number of stations.\n",
    "- $C$: Capacity of the truck.\n",
    "- $w$: Wage for driver, dollars per bike.\n",
    "- $h$: Disinfecting cost, dollars per bike.\n",
    "- $g$: Price of Gasoline, dollars per kilometer.\n",
    "- $R$: The predicted daily revenue.\n",
    "- $s_{i}^+$: A binary value that indicates whether there is a bike surplus at station $i$, i.e. $s_{i}^+ = 1$ when $E_i > \\lambda_i + \\omega_i$, and zero otherwise.\n",
    "- $s_{i}^-$: A binary value that indicates whether there is a bike shortage at station $i$, i.e. $s_{i}^- = 1$ when $E_i < \\lambda_i - \\omega_i$, and zero otherwise."
   ]
  },
  {
   "cell_type": "code",
   "execution_count": 637,
   "metadata": {},
   "outputs": [],
   "source": [
    "#Data importing and preprocessing\n",
    "dt_stations = pd.read_csv('/Users/Neversound/Desktop/MGSC662Proj/Bixi_filtered_hospitals.csv')\n",
    "n = dt_stations.shape[0]\n",
    "\n",
    "dt_stations['capacity'] = np.array([30 for i in range(n)])\n",
    "dt_stations['priority'] = np.array(dt_stations.Hospital != 'None')\n",
    "\n",
    "\n",
    "#stations = [coordinates of each station]\n",
    "stations = [[np.array(dt_stations.latitude)[i], np.array(dt_stations.longitude)[i]] for i in range(n)]"
   ]
  },
  {
   "cell_type": "code",
   "execution_count": 638,
   "metadata": {},
   "outputs": [],
   "source": [
    "dt_net_balance20190708 = pd.read_csv('/Users/Neversound/Desktop/MGSC662Proj/DT_net_balance2019-07-08.csv')\n",
    "\n",
    "#Use the demand of '7/8/19 8:00' as an example\n",
    "diff = np.array(dt_net_balance20190708['7/8/19 12:00'])"
   ]
  },
  {
   "cell_type": "code",
   "execution_count": 639,
   "metadata": {},
   "outputs": [],
   "source": [
    "cap = np.array(dt_stations['capacity'])\n",
    "ideal_level = np.floor(cap * 0.7) #ideal level is at 70%\n",
    "ideal_level = ideal_level.astype(int)\n",
    "\n",
    "#Existing number of bikes at stations, list of integers of length n\n",
    "E = np.floor(cap * 0.7) + diff\n",
    "E = E.astype(int)\n",
    "\n",
    "#Manhattan Distance\n",
    "#@ith WGS 1984 coordinate projection 111, 1 degree = 111 KM\n",
    "d_m = [[111 * abs(i[0] - j[0]) + 111 * abs(i[1] - j[1]) for i in stations] for j in stations]\n",
    "\n",
    "threshold = 3\n",
    "I = [[ideal_level[i] - threshold, ideal_level[i] + threshold] for i in range(n)]\n",
    "\n",
    "\n",
    "#Capacity of the truck\n",
    "C = 40\n",
    "\n",
    "#Binary values indicates surplus/shortage at staion i\n",
    "s1 = [int(E[i] - I[i][1] > 0) for i in range(n)] #surplus\n",
    "s2 = [int(I[i][0] - E[i] > 0) for i in range(n)] #shortage\n",
    "\n",
    "#Obj parameters: wages and costs\n",
    "h = 0.875\n",
    "g = 0.294\n",
    "R = 1000\n"
   ]
  },
  {
   "cell_type": "markdown",
   "metadata": {
    "id": "R___t9oz4FyJ"
   },
   "source": [
    "### Variables\n",
    "- $x_{i,j}$: A binary variable that indicates the relocation truck passes through station $i$ to station $j$ if $x_{i,j} = 1$, and zero otherwise.\n",
    "- $c_{i}$: The current number of bikes on the truck before arriving at station $i$.\n",
    "- $d_{i}$: The number of bikes the truck drops off at station $i$.\n",
    "- $p_{i}$: The number of bikes the truck picks up at station $i$.\n",
    "\n",
    "### Dummy Variables\n",
    "- $z_i$: Non-decreasing variables to ensure continuity of the route, for $i \\in \\{1 \\dots n\\}$.\n",
    "\n",
    "\n",
    "### Other Notations\n",
    "- $B$: The total number of bikes that are relocated.\n",
    "- $D$: The total distance that the truck has traveled.\n",
    "- $V$: The total number of stations visited (for record tracking purpose ONLY)."
   ]
  },
  {
   "cell_type": "code",
   "execution_count": 640,
   "metadata": {},
   "outputs": [],
   "source": [
    "#Priority parameter\n",
    "priority = list(dt_stations['priority'])"
   ]
  },
  {
   "cell_type": "code",
   "execution_count": 641,
   "metadata": {},
   "outputs": [],
   "source": [
    "#Profit Maximization Model\n",
    "prob = Model('BIXI')\n",
    "\n",
    "x = prob.addVars(n, n, vtype='B', name = 'x') #BINAR\"Y: x_{i,j}\n",
    "c = prob.addVars(n,lb = 0, vtype='I', name = 'c') #INTEGER: c_i \n",
    "d = prob.addVars(n,lb = 0, vtype='I', name = 'd') #INTEGER: d_i\n",
    "p = prob.addVars(n,lb = 0, vtype='I', name = 'p') #INTEGER: p_i\n",
    "z = prob.addVars(n,lb = 0, name = 'z')\n",
    "\n",
    "B = prob.addVar(lb = 0, vtype='I', name = 'B') #INTEGER: total number of bikes rebalanced\n",
    "D = prob.addVar(lb = 0, name = 'D') #INTEGER: total distance travelled by truck\n",
    "\n",
    "#Variable to check accuracy\n",
    "V = prob.addVar(lb = 0, vtype='I', name = 'V') #INTEGER, total number of stations visited\n",
    "d_sum = prob.addVar(lb = 0, vtype='I', name = 'd_sum') #INTEGER, total number of bikes dropped off\n",
    "p_sum = prob.addVar(lb = 0, vtype='I', name = 'p_sum') #INTEGER, total number of bikes picked up"
   ]
  },
  {
   "cell_type": "markdown",
   "metadata": {
    "id": "Q7AuY4HA4FyJ"
   },
   "source": [
    "### Assumptions\n",
    "- Routing\n",
    "  - 1. Each station is visited at most once.\n",
    "  - 2. The truck starts at station 0 and ends at station 0.\n",
    "  - 3. The distance will be calcuated using Manhattan distance.\n",
    "- Rebalancing\n",
    "  - 1. The truck arrives at station 0 with 20 bikes at the beginning of each working hour.\n",
    "  - 2. The operational cost has three components, the wage for the worker, gas cost and disinfecting cost."
   ]
  },
  {
   "cell_type": "markdown",
   "metadata": {
    "id": "CkJtvwzn4FyJ"
   },
   "source": [
    "### Variations\n",
    "- fixed subpath on bike stations located near hospitals, extra cost for disinfecting during COVID-19\n",
    "- Nonlinear objective"
   ]
  },
  {
   "cell_type": "markdown",
   "metadata": {},
   "source": [
    "### Objective\n",
    "$$\\text{Minimize } \\big( h * B + g * D + w\\big)$$"
   ]
  },
  {
   "cell_type": "code",
   "execution_count": 642,
   "metadata": {},
   "outputs": [],
   "source": [
    "obj = h * B + g * D + 20.52\n",
    "prob.setObjective(obj, GRB.MINIMIZE)"
   ]
  },
  {
   "cell_type": "markdown",
   "metadata": {
    "id": "buLxuQbf4FyJ"
   },
   "source": [
    "### Constraints - Routing\n",
    "\n",
    "$$\\begin{align}\n",
    "\\sum_i x_{ij} & \\le 1 \\hspace{0.5cm} i = \\{2 \\dots n\\} \\tag{Routing-1.1}\\\\\n",
    "\\sum_j x_{ij} & \\le 1 \\hspace{0.5cm} j = \\{2 \\dots n\\} \\tag{Routing-1.2}\\\\\n",
    "\\sum_i x_{ij} & = \\sum_i x_{ji} \\hspace{0.5cm} \\tag{Routing-1.3}\\\\\n",
    "\\sum_i x_{ii} & = 0 \\hspace{0.5cm} \\tag{Routing-1.4}\\\\\n",
    "\\sum_i x_{i1} & = 1 \\tag{Routing-2.1}\\\\\n",
    "\\sum_j x_{1j} & = 1 \\tag{Routing-2.2}\\\\\n",
    "\\sum_{i,j} x_{ij} d_{ij} & = D  \\tag{Total distance}\\\\\n",
    "z_j & \\ge z_i + 1 - 1996(1 - x_{ij}) \\tag{Continuity of route}\\\\\n",
    "\\end{align}$$"
   ]
  },
  {
   "cell_type": "code",
   "execution_count": 643,
   "metadata": {},
   "outputs": [],
   "source": [
    "visiting_arr = np.array(s1) + np.array(s2)\n",
    "priority_list = [i for i in range(n) if visiting_arr[i] == 1 and priority[i] == 1]\n",
    "regular = [num for num in range(n) if num != 0 and num not in priority_list]"
   ]
  },
  {
   "cell_type": "code",
   "execution_count": 644,
   "metadata": {
    "scrolled": true
   },
   "outputs": [],
   "source": [
    "#prob.addConstr(quicksum(x[i,j] for i in priority for j in regular) <= 1)"
   ]
  },
  {
   "cell_type": "code",
   "execution_count": 645,
   "metadata": {},
   "outputs": [],
   "source": [
    "#---Routing---\n",
    "\n",
    "#Routing-1.1\n",
    "for j in range(n):\n",
    "    prob.addConstr(quicksum(x[i,j] for i in range(n)) <= 1)\n",
    "    \n",
    "#Routing-1.2    \n",
    "for i in range(n):\n",
    "    prob.addConstr(quicksum(x[i,j] for j in range(n)) <= 1)\n",
    "\n",
    "#Routing-1.3\n",
    "for i in range(n):\n",
    "    prob.addConstr(quicksum(x[i,j] for j in range(n)) == quicksum(x[j,i] for j in range(n))) \n",
    "\n",
    "#Routing-1.4\n",
    "for i in range(1,n):\n",
    "    prob.addConstr(x[i,i] == 0)    \n",
    "\n",
    "#Total Distance\n",
    "prob.addConstr(quicksum(x[i,j] * d_m[i][j] for i in range(n) for j in range(n)) == D)\n",
    "\n",
    "#Route Continuity\n",
    "#Avoid sub trips by implementing a non-decreasing variable z\n",
    "#When the truck travels from i to j, z[j] > z[i]\n",
    "for i in range(n):\n",
    "    for j in range(1,n):\n",
    "        prob.addConstr(z[j] >= z[i] + 1 - 199996 * (1 - x[i,j]))"
   ]
  },
  {
   "cell_type": "markdown",
   "metadata": {},
   "source": [
    "### Constraints - Rebalancing\n",
    "\n",
    "$$\\begin{align}\n",
    "c_i & \\le C \\tag{Capacity of the truck}\\\\\n",
    "s_i^- d_i + s_i^+ p_i & = 0 \\tag{Pick up XOR Drop off at any station}\\\\\n",
    "p_i & \\le E_i \\tag{Pick up within ideal threshold}\\\\\n",
    "\\sum_i d_i & \\le \\sum_i p_i \\tag{Drop off LESS THAN pick up}\\\\\n",
    "\\sum_i d_i + p_i & = B \\tag{Total amount of bikes rebalanced}\\\\\n",
    "d_j + p_j & \\ge \\sum_i x_{ij} \\tag{A station is visted when necessary}\\\\\n",
    "c_j + d_j + p_j + \\alpha_j & \\le 1996\\sum_i x_{ij} \\tag{A station is visted when necessary}\\\\\n",
    "c_j & \\ge c_i - d_i + p_i - C(1 - x_{ij}) \\hspace{0.5cm} \\tag{Continuity of truck inventory - 1}\\\\\n",
    "c_j & \\le c_i - d_i + p_i - C(1 - x_{ij}) \\hspace{0.5cm} \\tag{Continuity of truck inventory - 2}\\\\\n",
    "\\end{align}$$"
   ]
  },
  {
   "cell_type": "code",
   "execution_count": 646,
   "metadata": {},
   "outputs": [],
   "source": [
    "#---Rebalancing---     \n",
    "        \n",
    "#Truck arrives at station 1 with 20 bikes\n",
    "prob.addConstr(c[0] == 20)\n",
    "\n",
    "\n",
    "for i in range(1,n):\n",
    "    #Pick up XOR Drop off at any station\n",
    "    prob.addConstr(s1[i] * d[i] + s2[i] * p[i] == 0)\n",
    "\n",
    "    #Capacity of the truck\n",
    "    prob.addConstr(c[i] <= C)\n",
    "    \n",
    "    #pick up within ideal threshold\n",
    "    prob.addConstr(p[i] <= E[i])\n",
    "    prob.addConstr(p[i] >= E[i] - I[i][1])\n",
    "    \n",
    "    #drop off within ideal threshold\n",
    "    prob.addConstr(d[i] <= cap[i] - E[i])\n",
    "    prob.addConstr(d[i] >= (I[i][0] - E[i])) #nonbinding when surplus  \n",
    "    \n",
    "#Total amount of bikes rebalanced\n",
    "prob.addConstr(quicksum(p[i] + d[i] for i in range(n)) == B)\n",
    "\n",
    "#A station is visted when necessary (synergy with the route)\n",
    "for i in range(1,n):\n",
    "    prob.addConstr(d[i] + p[i] >= quicksum(x[j,i] for j in range(n)))\n",
    "    #when station i is not visited LHS = RHS = 0\n",
    "    #when station i is visited \n",
    "    prob.addConstr(c[i] + d[i] + p[i] + z[i] <= 199996 * quicksum(x[j,i] for j in range(n)))\n",
    "                   \n",
    "\n",
    "#Continuity of truck inventory\n",
    "for i in range(n):\n",
    "    for j in range(1,n):\n",
    "        prob.addConstr(c[j] <= c[i] - d[i] + p[i] + C * (1 - x[i,j]))\n",
    "        prob.addConstr(c[j] >= c[i] - d[i] + p[i] - C * (1 - x[i,j]))"
   ]
  },
  {
   "cell_type": "code",
   "execution_count": 647,
   "metadata": {},
   "outputs": [
    {
     "data": {
      "text/plain": [
       "<gurobi.Constr *Awaiting Model Update*>"
      ]
     },
     "execution_count": 647,
     "metadata": {},
     "output_type": "execute_result"
    }
   ],
   "source": [
    "#---Variables for record tracking---           \n",
    "prob.addConstr(quicksum(x[i,j] for i in range(n) for j in range(n)) == V)    \n",
    "prob.addConstr(quicksum(d[i] for i in range(n)) == d_sum)\n",
    "prob.addConstr(quicksum(p[i] for i in range(n)) == p_sum)"
   ]
  },
  {
   "cell_type": "code",
   "execution_count": 648,
   "metadata": {},
   "outputs": [
    {
     "name": "stdout",
     "output_type": "stream",
     "text": [
      "Gurobi Optimizer version 9.1.0 build v9.1.0rc0 (mac64)\n",
      "Thread count: 4 physical cores, 8 logical processors, using up to 8 threads\n",
      "Optimize a model with 10611 rows, 3601 columns and 70187 nonzeros\n",
      "Model fingerprint: 0x855a2c2c\n",
      "Variable types: 59 continuous, 3542 integer (3364 binary)\n",
      "Coefficient statistics:\n",
      "  Matrix range     [5e-02, 2e+05]\n",
      "  Objective range  [3e-01, 9e-01]\n",
      "  Bounds range     [1e+00, 1e+00]\n",
      "  RHS range        [1e+00, 2e+05]\n",
      "Presolve removed 641 rows and 21 columns\n",
      "Presolve time: 0.15s\n",
      "Presolved: 9970 rows, 3580 columns, 48417 nonzeros\n",
      "Variable types: 57 continuous, 3523 integer (3357 binary)\n",
      "Found heuristic solution: objective 44.6562214\n",
      "\n",
      "Root relaxation: objective 3.296426e+01, 245 iterations, 0.02 seconds\n",
      "\n",
      "    Nodes    |    Current Node    |     Objective Bounds      |     Work\n",
      " Expl Unexpl |  Obj  Depth IntInf | Incumbent    BestBd   Gap | It/Node Time\n",
      "\n",
      "     0     0   32.96426    0   12   44.65622   32.96426  26.2%     -    0s\n",
      "H    0     0                      42.4239348   32.96426  22.3%     -    0s\n",
      "     0     0   33.67263    0   22   42.42393   33.67263  20.6%     -    0s\n",
      "H    0     0                      33.9446169   33.67263  0.80%     -    0s\n",
      "     0     0   33.67263    0   23   33.94462   33.67263  0.80%     -    0s\n",
      "     0     0   33.67311    0   21   33.94462   33.67311  0.80%     -    0s\n",
      "     0     0   33.67311    0   17   33.94462   33.67311  0.80%     -    0s\n",
      "     0     0   33.67312    0   23   33.94462   33.67312  0.80%     -    0s\n",
      "     0     0   33.70534    0   21   33.94462   33.70534  0.70%     -    0s\n",
      "     0     0   33.72561    0   21   33.94462   33.72561  0.65%     -    0s\n",
      "     0     0   33.73040    0   15   33.94462   33.73040  0.63%     -    0s\n",
      "     0     0   33.73970    0   15   33.94462   33.73970  0.60%     -    0s\n",
      "     0     0   33.75820    0   17   33.94462   33.75820  0.55%     -    0s\n",
      "     0     0   33.75973    0   18   33.94462   33.75973  0.54%     -    0s\n",
      "     0     0   33.77892    0   23   33.94462   33.77892  0.49%     -    0s\n",
      "     0     0   33.77987    0   23   33.94462   33.77987  0.49%     -    0s\n",
      "     0     0   33.77987    0   17   33.94462   33.77987  0.49%     -    0s\n",
      "     0     0   33.77987    0   24   33.94462   33.77987  0.49%     -    0s\n",
      "     0     0   33.77987    0   16   33.94462   33.77987  0.49%     -    0s\n",
      "     0     0   33.77987    0   23   33.94462   33.77987  0.49%     -    0s\n",
      "     0     0   33.77987    0   24   33.94462   33.77987  0.49%     -    0s\n",
      "     0     0   33.77987    0   25   33.94462   33.77987  0.49%     -    0s\n",
      "     0     0   33.77987    0   23   33.94462   33.77987  0.49%     -    0s\n",
      "     0     0   33.78039    0   24   33.94462   33.78039  0.48%     -    0s\n",
      "     0     0   33.79705    0   16   33.94462   33.79705  0.43%     -    0s\n",
      "     0     0   33.80075    0   16   33.94462   33.80075  0.42%     -    0s\n",
      "     0     0   33.84099    0   12   33.94462   33.84099  0.31%     -    0s\n",
      "     0     0   33.88387    0   12   33.94462   33.88387  0.18%     -    1s\n",
      "     0     2   33.88387    0   12   33.94462   33.88387  0.18%     -    1s\n",
      "\n",
      "Cutting planes:\n",
      "  Learned: 3\n",
      "  Gomory: 2\n",
      "  Implied bound: 6\n",
      "  MIR: 12\n",
      "  RLT: 4\n",
      "  Relax-and-lift: 3\n",
      "\n",
      "Explored 223 nodes (2114 simplex iterations) in 1.06 seconds\n",
      "Thread count was 8 (of 8 available processors)\n",
      "\n",
      "Solution count 3: 33.9446 42.4239 44.6562 \n",
      "\n",
      "Optimal solution found (tolerance 1.00e-04)\n",
      "Best objective 3.394461687812e+01, best bound 3.394461687812e+01, gap 0.0000%\n",
      "\n",
      "    Variable            X \n",
      "-------------------------\n",
      "     x[0,11]            1 \n",
      "      x[3,6]            1 \n",
      "      x[4,0]            1 \n",
      "      x[6,4]            1 \n",
      "    x[11,14]            1 \n",
      "    x[14,28]            1 \n",
      "    x[28,32]            1 \n",
      "     x[32,3]            1 \n",
      "        c[0]           20 \n",
      "        c[3]           24 \n",
      "        c[4]           23 \n",
      "        c[6]           21 \n",
      "       c[11]           20 \n",
      "       c[14]           22 \n",
      "       c[28]           23 \n",
      "       c[32]           25 \n",
      "        d[3]            3 \n",
      "       d[32]            1 \n",
      "        p[4]            2 \n",
      "        p[6]            2 \n",
      "       p[11]            2 \n",
      "       p[14]            1 \n",
      "       p[28]            2 \n",
      "        z[3]            5 \n",
      "        z[4]            7 \n",
      "        z[6]            6 \n",
      "       z[11]            1 \n",
      "       z[14]            2 \n",
      "       z[28]            3 \n",
      "       z[32]            4 \n",
      "           B           13 \n",
      "           D      6.97149 \n",
      "           V            8 \n",
      "       d_sum            4 \n",
      "       p_sum            9 \n"
     ]
    }
   ],
   "source": [
    "prob.optimize()\n",
    "prob.printAttr('X')"
   ]
  },
  {
   "cell_type": "code",
   "execution_count": 649,
   "metadata": {},
   "outputs": [
    {
     "name": "stdout",
     "output_type": "stream",
     "text": [
      "Operation cost for July 8th 12:00 - 13:00: 33.94\n",
      "The driver travelled 8.0 stations and rebalanced 13.0 bikes (picked up 9.0 bikes and dropped off 4.0 bikes).\n"
     ]
    }
   ],
   "source": [
    "print('Operation cost for July 8th 12:00 - 13:00: ' + str(round(obj.getValue(),2)))\n",
    "print('The driver travelled {} stations and rebalanced {} bikes (picked up {} bikes and dropped off {} bikes).'.format(V.x, B.x, p_sum.x, d_sum.x))"
   ]
  },
  {
   "cell_type": "markdown",
   "metadata": {},
   "source": [
    "### Operation cost for regular routing on July 8th 12:00 - 13:00: 33.94\n",
    "### The driver travelled 8.0 stations and rebalanced 13.0 bikes (picked up 9.0 bikes and dropped off 4.0 bikes).\n",
    "### The route is 0,11,14,28,32,3,6,4,0"
   ]
  },
  {
   "cell_type": "code",
   "execution_count": 651,
   "metadata": {},
   "outputs": [
    {
     "data": {
      "text/plain": [
       "[0, 3, 4, 28]"
      ]
     },
     "execution_count": 651,
     "metadata": {},
     "output_type": "execute_result"
    }
   ],
   "source": [
    "priority_list"
   ]
  },
  {
   "cell_type": "markdown",
   "metadata": {},
   "source": [
    "### Note that station 0, 3, 4 and 28 are stations near hospitals that needs rebalancing, now we add the priority constraint."
   ]
  },
  {
   "cell_type": "code",
   "execution_count": 652,
   "metadata": {},
   "outputs": [],
   "source": [
    "#Profit Maximization Model\n",
    "prob = Model('BIXI')\n",
    "\n",
    "x = prob.addVars(n, n, vtype='B', name = 'x') #BINAR\"Y: x_{i,j}\n",
    "c = prob.addVars(n,lb = 0, vtype='I', name = 'c') #INTEGER: c_i \n",
    "d = prob.addVars(n,lb = 0, vtype='I', name = 'd') #INTEGER: d_i\n",
    "p = prob.addVars(n,lb = 0, vtype='I', name = 'p') #INTEGER: p_i\n",
    "z = prob.addVars(n,lb = 0, vtype='I', name = 'z')\n",
    "\n",
    "B = prob.addVar(lb = 0, vtype='I', name = 'B') #INTEGER: total number of bikes rebalanced\n",
    "D = prob.addVar(lb = 0, name = 'D') #INTEGER: total distance travelled by truck\n",
    "\n",
    "#Variable to check accuracy\n",
    "V = prob.addVar(lb = 0, vtype='I', name = 'V') #INTEGER, total number of stations visited\n",
    "d_sum = prob.addVar(lb = 0, vtype='I', name = 'd_sum') #INTEGER, total number of bikes dropped off\n",
    "p_sum = prob.addVar(lb = 0, vtype='I', name = 'p_sum') #INTEGER, total number of bikes picked up"
   ]
  },
  {
   "cell_type": "code",
   "execution_count": 653,
   "metadata": {},
   "outputs": [],
   "source": [
    "obj = h * B + g * D + 20.52 + quicksum(z[i] for i in priority_list)\n",
    "prob.setObjective(obj, GRB.MINIMIZE)"
   ]
  },
  {
   "cell_type": "code",
   "execution_count": 654,
   "metadata": {},
   "outputs": [
    {
     "data": {
      "text/plain": [
       "<gurobi.Constr *Awaiting Model Update*>"
      ]
     },
     "execution_count": 654,
     "metadata": {},
     "output_type": "execute_result"
    }
   ],
   "source": [
    "#Priority constraints\n",
    "prob.addConstr(quicksum(x[i,j] for i in priority_list for j in regular) <= 1)\n",
    "\n",
    "prob.addConstr(quicksum(x[0,i] for i in priority_list) <= 1)"
   ]
  },
  {
   "cell_type": "code",
   "execution_count": 655,
   "metadata": {},
   "outputs": [],
   "source": [
    "#---Routing---\n",
    "\n",
    "#Routing-1.1\n",
    "for j in range(n):\n",
    "    prob.addConstr(quicksum(x[i,j] for i in range(n)) <= 1)\n",
    "    \n",
    "#Routing-1.2    \n",
    "for i in range(n):\n",
    "    prob.addConstr(quicksum(x[i,j] for j in range(n)) <= 1)\n",
    "\n",
    "#Routing-1.3\n",
    "for i in range(n):\n",
    "    prob.addConstr(quicksum(x[i,j] for j in range(n)) == quicksum(x[j,i] for j in range(n))) \n",
    "\n",
    "#Routing-1.4\n",
    "for i in range(1,n):\n",
    "    prob.addConstr(x[i,i] == 0)    \n",
    "\n",
    "#Total Distance\n",
    "prob.addConstr(quicksum(x[i,j] * d_m[i][j] for i in range(n) for j in range(n)) == D)\n",
    "\n",
    "#Route Continuity\n",
    "#Avoid sub trips by implementing a non-decreasing variable z\n",
    "#When the truck travels from i to j, z[j] > z[i]\n",
    "for i in range(n):\n",
    "    for j in range(1,n):\n",
    "        prob.addConstr(z[j] >= z[i] + 1 - 199996 * (1 - x[i,j]))"
   ]
  },
  {
   "cell_type": "code",
   "execution_count": 656,
   "metadata": {},
   "outputs": [],
   "source": [
    "#---Rebalancing---     \n",
    "        \n",
    "#Truck arrives at station 1 with 20 bikes\n",
    "prob.addConstr(c[0] == 20)\n",
    "\n",
    "\n",
    "for i in range(1,n):\n",
    "    #Pick up XOR Drop off at any station\n",
    "    prob.addConstr(s1[i] * d[i] + s2[i] * p[i] == 0)\n",
    "\n",
    "    #Capacity of the truck\n",
    "    prob.addConstr(c[i] <= C)\n",
    "    \n",
    "    #pick up within ideal threshold\n",
    "    prob.addConstr(p[i] <= E[i])\n",
    "    prob.addConstr(p[i] >= E[i] - I[i][1])\n",
    "    \n",
    "    #drop off within ideal threshold\n",
    "    prob.addConstr(d[i] <= cap[i] - E[i])\n",
    "    prob.addConstr(d[i] >= (I[i][0] - E[i])) #nonbinding when surplus  \n",
    "    \n",
    "#Total amount of bikes rebalanced\n",
    "prob.addConstr(quicksum(p[i] + d[i] for i in range(n)) == B)\n",
    "\n",
    "#A station is visted when necessary (synergy with the route)\n",
    "for i in range(1,n):\n",
    "    prob.addConstr(d[i] + p[i] >= quicksum(x[j,i] for j in range(n)))\n",
    "    #when station i is not visited LHS = RHS = 0\n",
    "    #when station i is visited \n",
    "    prob.addConstr(c[i] + d[i] + p[i] + z[i] <= 199996 * quicksum(x[j,i] for j in range(n)))\n",
    "                   \n",
    "\n",
    "#Continuity of truck inventory\n",
    "for i in range(n):\n",
    "    for j in range(1,n):\n",
    "        prob.addConstr(c[j] <= c[i] - d[i] + p[i] + C * (1 - x[i,j]))\n",
    "        prob.addConstr(c[j] >= c[i] - d[i] + p[i] - C * (1 - x[i,j]))"
   ]
  },
  {
   "cell_type": "code",
   "execution_count": 657,
   "metadata": {},
   "outputs": [
    {
     "data": {
      "text/plain": [
       "<gurobi.Constr *Awaiting Model Update*>"
      ]
     },
     "execution_count": 657,
     "metadata": {},
     "output_type": "execute_result"
    }
   ],
   "source": [
    "#---Variables for record tracking---           \n",
    "prob.addConstr(quicksum(x[i,j] for i in range(n) for j in range(n)) == V)    \n",
    "prob.addConstr(quicksum(d[i] for i in range(n)) == d_sum)\n",
    "prob.addConstr(quicksum(p[i] for i in range(n)) == p_sum)"
   ]
  },
  {
   "cell_type": "code",
   "execution_count": 658,
   "metadata": {},
   "outputs": [
    {
     "name": "stdout",
     "output_type": "stream",
     "text": [
      "Gurobi Optimizer version 9.1.0 build v9.1.0rc0 (mac64)\n",
      "Thread count: 4 physical cores, 8 logical processors, using up to 8 threads\n",
      "Optimize a model with 10613 rows, 3601 columns and 70407 nonzeros\n",
      "Model fingerprint: 0xbeb6a000\n",
      "Variable types: 1 continuous, 3600 integer (3364 binary)\n",
      "Coefficient statistics:\n",
      "  Matrix range     [5e-02, 2e+05]\n",
      "  Objective range  [3e-01, 1e+00]\n",
      "  Bounds range     [1e+00, 1e+00]\n",
      "  RHS range        [1e+00, 2e+05]\n",
      "Presolve removed 642 rows and 21 columns\n",
      "Presolve time: 0.16s\n",
      "Presolved: 9971 rows, 3580 columns, 48633 nonzeros\n",
      "Variable types: 0 continuous, 3580 integer (3357 binary)\n",
      "\n",
      "Root relaxation: objective 3.333779e+01, 178 iterations, 0.01 seconds\n",
      "\n",
      "    Nodes    |    Current Node    |     Objective Bounds      |     Work\n",
      " Expl Unexpl |  Obj  Depth IntInf | Incumbent    BestBd   Gap | It/Node Time\n",
      "\n",
      "     0     0   33.33779    0   18          -   33.33779      -     -    0s\n",
      "H    0     0                      80.0119775   33.33779  58.3%     -    0s\n",
      "H    0     0                      59.3861961   33.33779  43.9%     -    0s\n",
      "     0     0   34.47681    0   28   59.38620   34.47681  41.9%     -    0s\n",
      "H    0     0                      40.1361961   34.47681  14.1%     -    1s\n",
      "     0     0   35.42994    0   28   40.13620   35.42994  11.7%     -    1s\n",
      "     0     0   35.42994    0   30   40.13620   35.42994  11.7%     -    1s\n",
      "     0     0   35.42994    0   15   40.13620   35.42994  11.7%     -    1s\n",
      "     0     0   35.84437    0   20   40.13620   35.84437  10.7%     -    1s\n",
      "     0     0   35.96866    0   20   40.13620   35.96866  10.4%     -    1s\n",
      "     0     0   35.96866    0   21   40.13620   35.96866  10.4%     -    1s\n",
      "     0     0   35.99785    0   15   40.13620   35.99785  10.3%     -    1s\n",
      "     0     0   35.99785    0   16   40.13620   35.99785  10.3%     -    1s\n",
      "     0     0   36.00153    0   26   40.13620   36.00153  10.3%     -    1s\n",
      "     0     0   36.01385    0   23   40.13620   36.01385  10.3%     -    1s\n",
      "     0     0   36.01385    0   23   40.13620   36.01385  10.3%     -    1s\n",
      "     0     0   36.64150    0   24   40.13620   36.64150  8.71%     -    2s\n",
      "     0     0   36.64150    0   25   40.13620   36.64150  8.71%     -    2s\n",
      "     0     0   36.71784    0   21   40.13620   36.71784  8.52%     -    2s\n",
      "     0     0   36.74159    0   19   40.13620   36.74159  8.46%     -    2s\n",
      "     0     0   36.77979    0   15   40.13620   36.77979  8.36%     -    2s\n",
      "     0     0   36.78922    0   20   40.13620   36.78922  8.34%     -    2s\n",
      "     0     0   36.78922    0   19   40.13620   36.78922  8.34%     -    2s\n",
      "     0     0   36.78975    0   25   40.13620   36.78975  8.34%     -    2s\n",
      "     0     0   36.78975    0   27   40.13620   36.78975  8.34%     -    2s\n",
      "     0     0   36.79677    0   26   40.13620   36.79677  8.32%     -    2s\n",
      "     0     0   36.79677    0   26   40.13620   36.79677  8.32%     -    2s\n",
      "     0     0   36.79677    0   21   40.13620   36.79677  8.32%     -    2s\n",
      "     0     0   36.79677    0   20   40.13620   36.79677  8.32%     -    2s\n",
      "     0     0   36.79677    0   20   40.13620   36.79677  8.32%     -    3s\n",
      "     0     0   36.79677    0   20   40.13620   36.79677  8.32%     -    3s\n",
      "     0     0   36.79677    0   19   40.13620   36.79677  8.32%     -    3s\n",
      "     0     0   36.79677    0   19   40.13620   36.79677  8.32%     -    3s\n",
      "     0     0   36.79677    0   18   40.13620   36.79677  8.32%     -    3s\n",
      "     0     0   36.79677    0   18   40.13620   36.79677  8.32%     -    3s\n",
      "     0     0   36.79677    0   16   40.13620   36.79677  8.32%     -    3s\n",
      "     0     0   36.79677    0   19   40.13620   36.79677  8.32%     -    3s\n",
      "     0     0   36.79677    0   18   40.13620   36.79677  8.32%     -    3s\n",
      "     0     0   36.79677    0   18   40.13620   36.79677  8.32%     -    3s\n",
      "     0     2   37.06478    0   18   40.13620   37.06478  7.65%     -    3s\n",
      "   158   140   37.63011   31   20   40.13620   37.06478  7.65%  12.8    5s\n",
      "  1023   709   39.15630  119   18   40.13620   37.16695  7.40%  11.5   10s\n",
      "  1034   717   38.94227   28   13   40.13620   38.94227  2.97%  12.1   15s\n",
      "  1048   728   39.10440   45   26   40.13620   39.10440  2.57%  12.6   20s\n",
      "  1058   735   39.29027   43   46   40.13620   39.15665  2.44%  12.5   25s\n",
      "  1070   744   39.16404   55   23   40.13620   39.16404  2.42%  13.2   30s\n",
      "  1384   704     cutoff   88        40.13620   39.29572  2.09%  15.3   35s\n",
      "\n",
      "Cutting planes:\n",
      "  Learned: 1\n",
      "  Implied bound: 6\n",
      "  Projected implied bound: 3\n",
      "  Clique: 1\n",
      "  MIR: 1\n",
      "  Flow cover: 52\n",
      "  Zero half: 6\n",
      "  RLT: 1\n",
      "  Relax-and-lift: 1078\n",
      "\n",
      "Explored 1880 nodes (30160 simplex iterations) in 36.84 seconds\n",
      "Thread count was 8 (of 8 available processors)\n",
      "\n",
      "Solution count 3: 40.1362 59.3862 80.012 \n",
      "\n",
      "Optimal solution found (tolerance 1.00e-04)\n",
      "Best objective 4.013619608048e+01, best bound 4.013619608048e+01, gap 0.0000%\n",
      "\n",
      "    Variable            X \n",
      "-------------------------\n",
      "      x[0,4]            1 \n",
      "     x[3,28]            1 \n",
      "      x[4,3]            1 \n",
      "     x[6,14]            1 \n",
      "     x[11,0]            1 \n",
      "    x[14,11]            1 \n",
      "    x[28,32]            1 \n",
      "     x[32,6]            1 \n",
      "        c[0]           20 \n",
      "        c[3]           22 \n",
      "        c[4]           20 \n",
      "        c[6]           20 \n",
      "       c[11]           23 \n",
      "       c[14]           22 \n",
      "       c[28]           19 \n",
      "       c[32]           21 \n",
      "        d[3]            3 \n",
      "       d[32]            1 \n",
      "        p[4]            2 \n",
      "        p[6]            2 \n",
      "       p[11]            2 \n",
      "       p[14]            1 \n",
      "       p[28]            2 \n",
      "        z[3]            2 \n",
      "        z[4]            1 \n",
      "        z[6]            5 \n",
      "       z[11]       199956 \n",
      "       z[14]            6 \n",
      "       z[28]            3 \n",
      "       z[32]            4 \n",
      "           B           13 \n",
      "           D      7.62312 \n",
      "           V            8 \n",
      "       d_sum            4 \n",
      "       p_sum            9 \n"
     ]
    }
   ],
   "source": [
    "prob.optimize()\n",
    "prob.printAttr('X')"
   ]
  },
  {
   "cell_type": "code",
   "execution_count": 660,
   "metadata": {},
   "outputs": [
    {
     "name": "stdout",
     "output_type": "stream",
     "text": [
      "Operation with priorities cost for July 8th 12:00 - 13:00: 40.14\n",
      "The driver travelled 8.0 stations and rebalanced 13.0 bikes (picked up 9.0 bikes and dropped off 4.0 bikes).\n"
     ]
    }
   ],
   "source": [
    "print('Operation with priorities cost for July 8th 12:00 - 13:00: ' + str(round(obj.getValue(),2)))\n",
    "print('The driver travelled {} stations and rebalanced {} bikes (picked up {} bikes and dropped off {} bikes).'.format(V.x, B.x, p_sum.x, d_sum.x))"
   ]
  },
  {
   "cell_type": "code",
   "execution_count": 611,
   "metadata": {},
   "outputs": [
    {
     "data": {
      "text/plain": [
       "[0, 3, 4, 28]"
      ]
     },
     "execution_count": 611,
     "metadata": {},
     "output_type": "execute_result"
    }
   ],
   "source": [
    "priority_list"
   ]
  },
  {
   "cell_type": "markdown",
   "metadata": {},
   "source": [
    "# Before\n",
    "### Running time < 1s\n",
    "### Operation cost for regular routing on July 8th 12:00 - 13:00: 33.94\n",
    "### The driver travelled 8.0 stations and rebalanced 13.0 bikes (picked up 9.0 bikes and dropped off 4.0 bikes).\n",
    "### The route is 0,11,14,28,32,3,6,4,0"
   ]
  },
  {
   "cell_type": "markdown",
   "metadata": {},
   "source": [
    "# After\n",
    "### Running time: 36.84s\n",
    "### Operation cost for regular routing on July 8th 12:00 - 13:00: 40.14\n",
    "### The driver travelled 8.0 stations and rebalanced 13.0 bikes (picked up 9.0 bikes and dropped off 4.0 bikes).\n",
    "### The route is 0,4,3,28,32,6,14,11,0\n",
    "### Note that all stations are visited, but all the prioritized stations are visited first."
   ]
  },
  {
   "cell_type": "code",
   "execution_count": null,
   "metadata": {},
   "outputs": [],
   "source": []
  },
  {
   "cell_type": "code",
   "execution_count": null,
   "metadata": {},
   "outputs": [],
   "source": []
  },
  {
   "cell_type": "code",
   "execution_count": null,
   "metadata": {},
   "outputs": [],
   "source": []
  }
 ],
 "metadata": {
  "kernelspec": {
   "display_name": "Python 3",
   "language": "python",
   "name": "python3"
  },
  "language_info": {
   "codemirror_mode": {
    "name": "ipython",
    "version": 3
   },
   "file_extension": ".py",
   "mimetype": "text/x-python",
   "name": "python",
   "nbconvert_exporter": "python",
   "pygments_lexer": "ipython3",
   "version": "3.7.9"
  }
 },
 "nbformat": 4,
 "nbformat_minor": 4
}
